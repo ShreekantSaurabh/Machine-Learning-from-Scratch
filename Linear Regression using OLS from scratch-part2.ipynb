{
 "cells": [
  {
   "cell_type": "markdown",
   "metadata": {},
   "source": [
    "## Linear Regression using OLS from scratch-part2"
   ]
  },
  {
   "cell_type": "code",
   "execution_count": 1,
   "metadata": {
    "collapsed": true
   },
   "outputs": [],
   "source": [
    "import numpy as np\n",
    "import pandas as pd\n",
    "import matplotlib.pyplot as plt\n",
    "%matplotlib inline"
   ]
  },
  {
   "cell_type": "code",
   "execution_count": 2,
   "metadata": {
    "collapsed": true
   },
   "outputs": [],
   "source": [
    "def train_test_split(filename):\n",
    "    \n",
    "    df = pd.read_csv(filename)\n",
    "    print(df.head())\n",
    "    \n",
    "    train=df.sample(frac=0.7,random_state=200)\n",
    "    test=df.drop(train.index)\n",
    "    \n",
    "    X_train = train.iloc[:,:-1].values\n",
    "    Y_train = train.iloc[:,1].values\n",
    "    \n",
    "    X_test = test.iloc[:,:-1].values\n",
    "    Y_test = test.iloc[:,1].values\n",
    "    \n",
    "    return X_train, Y_train, X_test, Y_test"
   ]
  },
  {
   "cell_type": "code",
   "execution_count": 3,
   "metadata": {
    "collapsed": true
   },
   "outputs": [],
   "source": [
    "def estimate_coefficients(X,Y):\n",
    "    n = np.size(X)\n",
    "    mean_X, mean_Y = np.mean(X), np.mean(Y)\n",
    "    \n",
    "    covariance_XY = 0\n",
    "    variance_X = 0\n",
    "    \n",
    "    for i in range(n):\n",
    "        covariance_XY += ((X[i] - mean_X) * (Y[i] - mean_Y))/n\n",
    "        variance_X += ((X[i] - mean_X)** 2)/n\n",
    "        \n",
    "    b_1 = covariance_XY / variance_X\n",
    "    b_0 = mean_Y - (b_1*mean_X)\n",
    "    \n",
    "    print(\"Slope is : \" + str(b_1))\n",
    "    print(\"Intercept is : \" + str(b_0))\n",
    "    \n",
    "    return (b_1, b_0)\n"
   ]
  },
  {
   "cell_type": "code",
   "execution_count": 4,
   "metadata": {
    "collapsed": true
   },
   "outputs": [],
   "source": [
    "def plot_regression_line(X, Y, b_1, b_0 ):\n",
    "    \n",
    "    plt.scatter(X,Y, color='red')\n",
    "    \n",
    "    y_pred = b_0 + b_1*X\n",
    "    \n",
    "    plt.plot(X, y_pred, color='blue')\n",
    "    plt.xlabel(\"YearsExperience\")\n",
    "    plt.ylabel(\"Salary\")\n",
    "    plt.title('Salary vs Experience')\n",
    "    plt.show()\n",
    "    "
   ]
  },
  {
   "cell_type": "code",
   "execution_count": 5,
   "metadata": {
    "collapsed": true
   },
   "outputs": [],
   "source": [
    "def RMSE(X, Y, b_1, b_0):\n",
    "    \n",
    "    n = np.size(X)\n",
    "    rmse = 0\n",
    "    for i in range(n):\n",
    "        y_pred = b_0 + b_1 * X[i]\n",
    "        rmse += (Y[i] - y_pred) ** 2\n",
    "    rmse = np.sqrt(rmse/n)\n",
    "    print(\"Root Mean Squared Error is : \" + str(rmse))"
   ]
  },
  {
   "cell_type": "code",
   "execution_count": 6,
   "metadata": {
    "collapsed": true
   },
   "outputs": [],
   "source": [
    "def R_Squared(X, Y, b_1, b_0):\n",
    "    \n",
    "    n = np.size(X)\n",
    "    mean_Y = np.mean(Y)\n",
    "    \n",
    "    sst = 0\n",
    "    ssr = 0\n",
    "    \n",
    "    for i in range(n):\n",
    "        y_pred = b_0 + b_1 * X[i]\n",
    "        sst += (Y[i] - mean_Y) ** 2\n",
    "        ssr += (Y[i] - y_pred) ** 2\n",
    "        \n",
    "    r2 = 1 - (ssr/sst)\n",
    "    print(\"R-Squared value is : \" + str(r2))"
   ]
  },
  {
   "cell_type": "code",
   "execution_count": 7,
   "metadata": {
    "collapsed": true
   },
   "outputs": [],
   "source": [
    "def main():\n",
    "\n",
    "    X_train, Y_train, X_test, Y_test = train_test_split('Salary_Data.csv')\n",
    "    \n",
    "    print(\"\\n\\n\")\n",
    "    \n",
    "    b1,b0 = estimate_coefficients(X_train,Y_train)\n",
    "    \n",
    "    print(\"\\n\\n\")\n",
    "    \n",
    "    print(\"Training Plot\")\n",
    "    plot_regression_line(X_train,Y_train, b1, b0)\n",
    "    \n",
    "    print(\"\\n\\n\")\n",
    "    \n",
    "    print(\"Testing Plot\")\n",
    "    plot_regression_line(X_test,Y_test, b1, b0)\n",
    "    \n",
    "    print(\"Training Error\")\n",
    "    RMSE(X_train, Y_train, b1, b0)\n",
    "    \n",
    "    print(\"\\n\\n\")\n",
    "    \n",
    "    print(\"Testing Error\")\n",
    "    RMSE(X_test, Y_test, b1, b0)\n",
    "    \n",
    "    R_Squared(X_test, Y_test, b1, b0)"
   ]
  },
  {
   "cell_type": "code",
   "execution_count": 8,
   "metadata": {},
   "outputs": [
    {
     "name": "stdout",
     "output_type": "stream",
     "text": [
      "   YearsExperience   Salary\n",
      "0              1.1  39343.0\n",
      "1              1.3  46205.0\n",
      "2              1.5  37731.0\n",
      "3              2.0  43525.0\n",
      "4              2.2  39891.0\n",
      "\n",
      "\n",
      "\n",
      "Slope is : [9019.33172472]\n",
      "Intercept is : [29246.84678177]\n",
      "\n",
      "\n",
      "\n",
      "Training Plot\n"
     ]
    },
    {
     "data": {
      "image/png": "[encoded data removed]",
      "text/plain": [
       "<matplotlib.figure.Figure at 0x225960b7ba8>"
      ]
     },
     "metadata": {},
     "output_type": "display_data"
    },
    {
     "name": "stdout",
     "output_type": "stream",
     "text": [
      "\n",
      "\n",
      "\n",
      "Testing Plot\n"
     ]
    },
    {
     "data": {
      "image/png": "[encoded data removed]",
      "text/plain": [
       "<matplotlib.figure.Figure at 0x225960b7eb8>"
      ]
     },
     "metadata": {},
     "output_type": "display_data"
    },
    {
     "name": "stdout",
     "output_type": "stream",
     "text": [
      "Training Error\n",
      "Root Mean Squared Error is : [5017.78483981]\n",
      "\n",
      "\n",
      "\n",
      "Testing Error\n",
      "Root Mean Squared Error is : [7405.13454032]\n",
      "R-Squared value is : [0.91014243]\n"
     ]
    }
   ],
   "source": [
    "if __name__ == \"__main__\":\n",
    "    main()"
   ]
  }
 ],
 "metadata": {
  "kernelspec": {
   "display_name": "Python 3",
   "language": "python",
   "name": "python3"
  },
  "language_info": {
   "codemirror_mode": {
    "name": "ipython",
    "version": 3
   },
   "file_extension": ".py",
   "mimetype": "text/x-python",
   "name": "python",
   "nbconvert_exporter": "python",
   "pygments_lexer": "ipython3",
   "version": "3.5.3"
  }
 },
 "nbformat": 4,
 "nbformat_minor": 1
}
